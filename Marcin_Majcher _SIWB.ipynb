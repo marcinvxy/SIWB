{
 "cells": [
  {
   "cell_type": "markdown",
   "id": "574b6520",
   "metadata": {},
   "source": [
    "# Marcin Majcher \n",
    "# Czyszczenie danych i przygotowanie zbioru do analizy"
   ]
  },
  {
   "cell_type": "code",
   "execution_count": 1,
   "id": "d004bf0e",
   "metadata": {},
   "outputs": [],
   "source": [
    "import pandas as pd\n",
    "import numpy as np\n",
    "import seaborn as sns\n",
    "%matplotlib inline"
   ]
  },
  {
   "cell_type": "markdown",
   "id": "142a596c",
   "metadata": {},
   "source": [
    "## Wczytanie pliku"
   ]
  },
  {
   "cell_type": "code",
   "execution_count": 2,
   "id": "a5fe00ee",
   "metadata": {},
   "outputs": [],
   "source": [
    "df = pd.read_table('C:\\\\Users\\\\Marcin\\\\Desktop\\\\TitanicMess.tsv')"
   ]
  },
  {
   "cell_type": "markdown",
   "id": "67694c99",
   "metadata": {},
   "source": [
    "## Wyświetlenie informacji o danych"
   ]
  },
  {
   "cell_type": "code",
   "execution_count": 3,
   "id": "5319bb52",
   "metadata": {
    "scrolled": true
   },
   "outputs": [
    {
     "name": "stdout",
     "output_type": "stream",
     "text": [
      "<class 'pandas.core.frame.DataFrame'>\n",
      "RangeIndex: 892 entries, 0 to 891\n",
      "Data columns (total 13 columns):\n",
      " #   Column       Non-Null Count  Dtype \n",
      "---  ------       --------------  ----- \n",
      " 0   PassengerId  892 non-null    int64 \n",
      " 1   Survived     892 non-null    int64 \n",
      " 2   Pclass       892 non-null    int64 \n",
      " 3   Name         892 non-null    object\n",
      " 4   Sex          892 non-null    object\n",
      " 5   Age          719 non-null    object\n",
      " 6   SibSp        892 non-null    int64 \n",
      " 7   Parch        892 non-null    int64 \n",
      " 8   Ticket       892 non-null    object\n",
      " 9   Fare         892 non-null    object\n",
      " 10  Cabin        207 non-null    object\n",
      " 11  Embarked     890 non-null    object\n",
      " 12  ship         892 non-null    object\n",
      "dtypes: int64(5), object(8)\n",
      "memory usage: 90.7+ KB\n"
     ]
    }
   ],
   "source": [
    "df.info()"
   ]
  },
  {
   "cell_type": "markdown",
   "id": "38a1c418",
   "metadata": {},
   "source": [
    "### Szukanie pustych wartości"
   ]
  },
  {
   "cell_type": "code",
   "execution_count": 4,
   "id": "3c2b815f",
   "metadata": {},
   "outputs": [
    {
     "data": {
      "text/plain": [
       "PassengerId    False\n",
       "Survived       False\n",
       "Pclass         False\n",
       "Name           False\n",
       "Sex            False\n",
       "Age             True\n",
       "SibSp          False\n",
       "Parch          False\n",
       "Ticket         False\n",
       "Fare           False\n",
       "Cabin           True\n",
       "Embarked        True\n",
       "ship           False\n",
       "dtype: bool"
      ]
     },
     "execution_count": 4,
     "metadata": {},
     "output_type": "execute_result"
    }
   ],
   "source": [
    "df.isnull().any()\n"
   ]
  },
  {
   "cell_type": "markdown",
   "id": "d9da7ad0",
   "metadata": {},
   "source": [
    "### W pliku znajdują się 3 kolumny, które posiadają puste wartości - Age, Cabin i Embarked"
   ]
  },
  {
   "cell_type": "markdown",
   "id": "e170b2f3",
   "metadata": {},
   "source": [
    "# Czyszczenie kolumny Age"
   ]
  },
  {
   "cell_type": "code",
   "execution_count": 5,
   "id": "532fdee6",
   "metadata": {},
   "outputs": [
    {
     "data": {
      "text/plain": [
       "True"
      ]
     },
     "execution_count": 5,
     "metadata": {},
     "output_type": "execute_result"
    }
   ],
   "source": [
    "df['Age'].isnull().any()\n"
   ]
  },
  {
   "cell_type": "markdown",
   "id": "9bd1b2b0",
   "metadata": {},
   "source": [
    "### Szukanie wartości unikalnych"
   ]
  },
  {
   "cell_type": "code",
   "execution_count": 6,
   "id": "0d5d7742",
   "metadata": {},
   "outputs": [
    {
     "data": {
      "text/plain": [
       "array(['22', '38', '26', '35', nan, '54', '2', '27', '14', '4', '58',\n",
       "       '20', '55', '31', '34', '15', '8', '19', '40', '.9', '66', '28',\n",
       "       '42', '21', '18', '3', '7', '49', '29', '65', '28,5', '5', '11',\n",
       "       '45', '17', '32', '16', '25', '0,83', '30', '33', '23', '24', '46',\n",
       "       '59', '71', '37', '47', '14,5', '70,5', '32,5', '12', '9', '36,5',\n",
       "       '51', '55,5', '40,5', '44', '1', '61', '56', '50', '36', '45,5',\n",
       "       '4435', '20,5', '62', '41', '52', '63', '23,5', '0,92', '43', '60',\n",
       "       '39', '10', '64', '13', '48', '0,75', '-3', '-12', '53', '57',\n",
       "       '80', '250', '70', '24,5', '6', '0,67', '30,5', '0,42', '34,5',\n",
       "       '74'], dtype=object)"
      ]
     },
     "execution_count": 6,
     "metadata": {},
     "output_type": "execute_result"
    }
   ],
   "source": [
    "df['Age'].unique()"
   ]
  },
  {
   "cell_type": "markdown",
   "id": "73f0b916",
   "metadata": {},
   "source": [
    "### Z daych unikalnych wynika, że:\n",
    "    -separatorem dziesietnym jest przecinek co będzie powodować problemy\n",
    "    -wiek poniżej 0\n",
    "    -wiek powyżej 120"
   ]
  },
  {
   "cell_type": "markdown",
   "id": "c5b948bb",
   "metadata": {},
   "source": [
    "### Zamiana przecinka na kropkę"
   ]
  },
  {
   "cell_type": "code",
   "execution_count": 7,
   "id": "773568fc",
   "metadata": {},
   "outputs": [],
   "source": [
    "df['Age'] = df['Age'].str.replace(',', '.')"
   ]
  },
  {
   "cell_type": "markdown",
   "id": "e13319c4",
   "metadata": {},
   "source": [
    "### Zamiana typu object na float"
   ]
  },
  {
   "cell_type": "code",
   "execution_count": 8,
   "id": "1604663b",
   "metadata": {},
   "outputs": [
    {
     "name": "stdout",
     "output_type": "stream",
     "text": [
      "<class 'pandas.core.frame.DataFrame'>\n",
      "RangeIndex: 892 entries, 0 to 891\n",
      "Data columns (total 1 columns):\n",
      " #   Column  Non-Null Count  Dtype  \n",
      "---  ------  --------------  -----  \n",
      " 0   Age     719 non-null    float64\n",
      "dtypes: float64(1)\n",
      "memory usage: 7.1 KB\n"
     ]
    }
   ],
   "source": [
    "df['Age'] = df['Age'].astype(float)\n",
    "df[['Age']].info()"
   ]
  },
  {
   "cell_type": "markdown",
   "id": "59536039",
   "metadata": {},
   "source": [
    "### Wizualizacja danych odstających kolumny Age"
   ]
  },
  {
   "cell_type": "code",
   "execution_count": 9,
   "id": "9feba5ff",
   "metadata": {},
   "outputs": [
    {
     "data": {
      "image/png": "[encoded data removed]",
      "text/plain": [
       "<Figure size 432x288 with 1 Axes>"
      ]
     },
     "metadata": {
      "needs_background": "light"
     },
     "output_type": "display_data"
    }
   ],
   "source": [
    "sns.boxplot(x=df['Age']);"
   ]
  },
  {
   "cell_type": "code",
   "execution_count": 10,
   "id": "b4a7cda7",
   "metadata": {},
   "outputs": [
    {
     "name": "stdout",
     "output_type": "stream",
     "text": [
      "(array([223, 666], dtype=int64),) (array([507, 522], dtype=int64),)\n"
     ]
    }
   ],
   "source": [
    "print(np.where(df['Age']>120), np.where(df['Age']<0))"
   ]
  },
  {
   "cell_type": "markdown",
   "id": "00e3a204",
   "metadata": {},
   "source": [
    "### W celu uzyskania dokładnej średniej arytmetycznej wieku następuje:\n",
    "    - usunięcie danych Age powyżej 100 i poniżej 0 i przypisanie do zmiennej age\n",
    "    - usunięcie brakujących wartości ze zmennej age"
   ]
  },
  {
   "cell_type": "code",
   "execution_count": 11,
   "id": "455b5bea",
   "metadata": {},
   "outputs": [
    {
     "data": {
      "text/plain": [
       "False"
      ]
     },
     "execution_count": 11,
     "metadata": {},
     "output_type": "execute_result"
    }
   ],
   "source": [
    "age = df['Age'].drop(df[(df.Age < 0) | (df.Age > 100)].index)\n",
    "age = age.dropna()\n",
    "age.isnull().any()"
   ]
  },
  {
   "cell_type": "markdown",
   "id": "5efe7618",
   "metadata": {},
   "source": [
    "### Policzenie średniej arytmetycznej wieku i zaokrąglenie do drugiego miejsca po przecinku"
   ]
  },
  {
   "cell_type": "code",
   "execution_count": 12,
   "id": "ef7b7c23",
   "metadata": {},
   "outputs": [
    {
     "data": {
      "text/plain": [
       "29.6"
      ]
     },
     "execution_count": 12,
     "metadata": {},
     "output_type": "execute_result"
    }
   ],
   "source": [
    "average = round(age.mean(), 2)\n",
    "average"
   ]
  },
  {
   "cell_type": "markdown",
   "id": "10db2e62",
   "metadata": {},
   "source": [
    "### Zamienienie wartości pustych, poniżej zeara oraz powyżej sto średnią arytmetyczną"
   ]
  },
  {
   "cell_type": "code",
   "execution_count": 13,
   "id": "74bb8f27",
   "metadata": {},
   "outputs": [],
   "source": [
    "df['Age'] = df['Age'].fillna(average)\n",
    "df.loc[(df.Age > 100) | (df.Age < 0), 'Age'] = average"
   ]
  },
  {
   "cell_type": "markdown",
   "id": "567b2ae8",
   "metadata": {},
   "source": [
    "### Optymalizacja pamięci"
   ]
  },
  {
   "cell_type": "code",
   "execution_count": 14,
   "id": "053e44d3",
   "metadata": {},
   "outputs": [
    {
     "name": "stdout",
     "output_type": "stream",
     "text": [
      "<class 'pandas.core.frame.DataFrame'>\n",
      "RangeIndex: 892 entries, 0 to 891\n",
      "Data columns (total 1 columns):\n",
      " #   Column  Non-Null Count  Dtype  \n",
      "---  ------  --------------  -----  \n",
      " 0   Age     892 non-null    float64\n",
      "dtypes: float64(1)\n",
      "memory usage: 7.1 KB\n"
     ]
    }
   ],
   "source": [
    "df[['Age']].info()"
   ]
  },
  {
   "cell_type": "markdown",
   "id": "8ca76bae",
   "metadata": {},
   "source": [
    "### Obecnie kolumna zajmuje 7.1 KB pamięci RAM"
   ]
  },
  {
   "cell_type": "code",
   "execution_count": 15,
   "id": "6b36ee78",
   "metadata": {},
   "outputs": [
    {
     "name": "stdout",
     "output_type": "stream",
     "text": [
      "<class 'pandas.core.frame.DataFrame'>\n",
      "RangeIndex: 892 entries, 0 to 891\n",
      "Data columns (total 1 columns):\n",
      " #   Column  Non-Null Count  Dtype  \n",
      "---  ------  --------------  -----  \n",
      " 0   Age     892 non-null    float16\n",
      "dtypes: float16(1)\n",
      "memory usage: 1.9 KB\n"
     ]
    }
   ],
   "source": [
    "df['Age'] = df['Age'].astype('float16')\n",
    "df[['Age']].info()"
   ]
  },
  {
   "cell_type": "markdown",
   "id": "f95d5753",
   "metadata": {},
   "source": [
    "### Po zmanie typu z float64 na float16 rozmiar kolumny w pamięci RAM zmniejsza się do 1.9 KB "
   ]
  },
  {
   "cell_type": "markdown",
   "id": "fb3b5f5e",
   "metadata": {},
   "source": [
    "# Czyszczenie kolumny Fare"
   ]
  },
  {
   "cell_type": "code",
   "execution_count": 16,
   "id": "c4877b71",
   "metadata": {},
   "outputs": [
    {
     "name": "stdout",
     "output_type": "stream",
     "text": [
      "<class 'pandas.core.frame.DataFrame'>\n",
      "RangeIndex: 892 entries, 0 to 891\n",
      "Data columns (total 1 columns):\n",
      " #   Column  Non-Null Count  Dtype \n",
      "---  ------  --------------  ----- \n",
      " 0   Fare    892 non-null    object\n",
      "dtypes: object(1)\n",
      "memory usage: 7.1+ KB\n"
     ]
    }
   ],
   "source": [
    "df[['Fare']].info()"
   ]
  },
  {
   "cell_type": "code",
   "execution_count": 17,
   "id": "c089e1e4",
   "metadata": {},
   "outputs": [
    {
     "data": {
      "text/plain": [
       "array(['7,25', '71,2833', '7,925', '53,1', '8,05', '8,4583', '51,8625',\n",
       "       '21,075', '11,1333', '30,0708', '16,7', '26,55', '7,8542', '16',\n",
       "       '29,125', '13', '18', '7,225', '26', '8,0292', '31,3875', '263',\n",
       "       '7,8792', '7,8958', '27,7208', '146,5208', '7,75', '10,5',\n",
       "       '82,1708', '52', '7,2292', '11,2417', '9,475', '21', '41,5792',\n",
       "       '15,5', '21,6792', '17,8', '39,6875', '7,8', '76,7292', '61,9792',\n",
       "       '35,5', '27,75', '46,9', '80', '83,475', '27,9', '15,2458',\n",
       "       '8,1583', '8,6625', '73,5', '14,4542', '56,4958', '7,65', '29',\n",
       "       '12,475', '9', '9,5', '7,7875', '47,1', '15,85', '34,375',\n",
       "       '61,175', '20,575', '34,6542', '63,3583', '23', '77,2875',\n",
       "       '8,6542', '7,775', '24,15', '9,825', '14,4583', '247,5208',\n",
       "       '31,275', '7,1417', '22,3583', '6,975', '7,05', '14,5', '15,0458',\n",
       "       '26,2833', '9,2167', '79,2', '6,75', '11,5', '36,75', '7,7958',\n",
       "       '12,525', '66,6', '7,3125', '61,3792', '7,7333', '69,55', '16,1',\n",
       "       '15,75', '20,525', '55', '25,925', '33,5', '30,6958', '25,4667',\n",
       "       '28,7125', '0', '15,05', '39', '22,025', '50', '8,4042', '6,4958',\n",
       "       '10,4625', '18,7875', '31', '113,275', '27', '76,2917', '90',\n",
       "       '9,35', '13,5', '7,55', '26,25', '12,275', '7,125', '-90',\n",
       "       '52,5542', '20,2125', '86,5', '512,3292', '79,65', '153,4625',\n",
       "       '135,6333', '19,5', '29,7', '77,9583', '20,25', '78,85', '91,0792',\n",
       "       '12,875', '8,85', '151,55', '30,5', '23,25', '12,35', '110,8833',\n",
       "       '108,9', '24', '56,9292', '83,1583', '262,375', '14', '164,8667',\n",
       "       '134,5', '6,2375', '57,9792', '28,5', '133,65', '15,9', '9,225',\n",
       "       '35', '75,25', '69,3', '55,4417', '211,5', '4,0125', '227,525',\n",
       "       '15,7417', '7,7292', '12', '120', '12,65', '18,75', '6,8583',\n",
       "       '32,5', '7,875', '14,4', '55,9', '8,1125', '81,8583', '19,2583',\n",
       "       '19,9667', '89,1042', '38,5', '7,725', '13,7917', '9,8375',\n",
       "       '7,0458', '7,5208', '12,2875', '9,5875', '15,9a', '49,5042',\n",
       "       '78,2667', '15,1', '7,6292', '22,525', '26,2875', '59,4', '7,4958',\n",
       "       '34,0208', '221,7792', '106,425', '49,5', '71', '13,8625',\n",
       "       '7,8292', '39,6', '17,4', '51,4792', '26,3875', '30', '40,125',\n",
       "       '8,7125', '15', '33', '42,4', '15,55', '65', '32,3208', '7,0542',\n",
       "       '8,4333', '25,5875', '9,8417', '8,1375', '10,1708', '211,3375',\n",
       "       '57', '13,4167', '7,7417', '9,4833', '7,7375', '8,3625', '23,45',\n",
       "       '25,9292', '8,6833', '8,5167', '7,8875', '37,0042', '6,45', '93,5',\n",
       "       '6,95', '8,3', '6,4375', '39,4', '14,1083', '13,8583', '50,4958',\n",
       "       '5', '9,8458', '10,5167'], dtype=object)"
      ]
     },
     "execution_count": 17,
     "metadata": {},
     "output_type": "execute_result"
    }
   ],
   "source": [
    "df['Fare'].unique()"
   ]
  },
  {
   "cell_type": "markdown",
   "id": "27442a3e",
   "metadata": {},
   "source": [
    "### Z powyższego wyniku widać, że separatorem jest przecinek co trzeba zamienić na kropkę. Do liczby również jest dopisana literka a, którą trzeba usunąć. Wartość poniżej zera została zastąpiona zerem. Fare czyli opłata powinna być zaokrąglana do drugiego miejsca po przecinku"
   ]
  },
  {
   "cell_type": "code",
   "execution_count": 18,
   "id": "b8a3dd56",
   "metadata": {},
   "outputs": [],
   "source": [
    "df['Fare'] = df['Fare'].str.replace(',', '.')\n",
    "df['Fare'] = df['Fare'].str.replace('a', '')"
   ]
  },
  {
   "cell_type": "code",
   "execution_count": 19,
   "id": "3ea3f086",
   "metadata": {},
   "outputs": [
    {
     "data": {
      "text/plain": [
       "array(['7.25', '71.2833', '7.925', '53.1', '8.05', '8.4583', '51.8625',\n",
       "       '21.075', '11.1333', '30.0708', '16.7', '26.55', '7.8542', '16',\n",
       "       '29.125', '13', '18', '7.225', '26', '8.0292', '31.3875', '263',\n",
       "       '7.8792', '7.8958', '27.7208', '146.5208', '7.75', '10.5',\n",
       "       '82.1708', '52', '7.2292', '11.2417', '9.475', '21', '41.5792',\n",
       "       '15.5', '21.6792', '17.8', '39.6875', '7.8', '76.7292', '61.9792',\n",
       "       '35.5', '27.75', '46.9', '80', '83.475', '27.9', '15.2458',\n",
       "       '8.1583', '8.6625', '73.5', '14.4542', '56.4958', '7.65', '29',\n",
       "       '12.475', '9', '9.5', '7.7875', '47.1', '15.85', '34.375',\n",
       "       '61.175', '20.575', '34.6542', '63.3583', '23', '77.2875',\n",
       "       '8.6542', '7.775', '24.15', '9.825', '14.4583', '247.5208',\n",
       "       '31.275', '7.1417', '22.3583', '6.975', '7.05', '14.5', '15.0458',\n",
       "       '26.2833', '9.2167', '79.2', '6.75', '11.5', '36.75', '7.7958',\n",
       "       '12.525', '66.6', '7.3125', '61.3792', '7.7333', '69.55', '16.1',\n",
       "       '15.75', '20.525', '55', '25.925', '33.5', '30.6958', '25.4667',\n",
       "       '28.7125', '0', '15.05', '39', '22.025', '50', '8.4042', '6.4958',\n",
       "       '10.4625', '18.7875', '31', '113.275', '27', '76.2917', '90',\n",
       "       '9.35', '13.5', '7.55', '26.25', '12.275', '7.125', '-90',\n",
       "       '52.5542', '20.2125', '86.5', '512.3292', '79.65', '153.4625',\n",
       "       '135.6333', '19.5', '29.7', '77.9583', '20.25', '78.85', '91.0792',\n",
       "       '12.875', '8.85', '151.55', '30.5', '23.25', '12.35', '110.8833',\n",
       "       '108.9', '24', '56.9292', '83.1583', '262.375', '14', '164.8667',\n",
       "       '134.5', '6.2375', '57.9792', '28.5', '133.65', '15.9', '9.225',\n",
       "       '35', '75.25', '69.3', '55.4417', '211.5', '4.0125', '227.525',\n",
       "       '15.7417', '7.7292', '12', '120', '12.65', '18.75', '6.8583',\n",
       "       '32.5', '7.875', '14.4', '55.9', '8.1125', '81.8583', '19.2583',\n",
       "       '19.9667', '89.1042', '38.5', '7.725', '13.7917', '9.8375',\n",
       "       '7.0458', '7.5208', '12.2875', '9.5875', '49.5042', '78.2667',\n",
       "       '15.1', '7.6292', '22.525', '26.2875', '59.4', '7.4958', '34.0208',\n",
       "       '221.7792', '106.425', '49.5', '71', '13.8625', '7.8292', '39.6',\n",
       "       '17.4', '51.4792', '26.3875', '30', '40.125', '8.7125', '15', '33',\n",
       "       '42.4', '15.55', '65', '32.3208', '7.0542', '8.4333', '25.5875',\n",
       "       '9.8417', '8.1375', '10.1708', '211.3375', '57', '13.4167',\n",
       "       '7.7417', '9.4833', '7.7375', '8.3625', '23.45', '25.9292',\n",
       "       '8.6833', '8.5167', '7.8875', '37.0042', '6.45', '93.5', '6.95',\n",
       "       '8.3', '6.4375', '39.4', '14.1083', '13.8583', '50.4958', '5',\n",
       "       '9.8458', '10.5167'], dtype=object)"
      ]
     },
     "execution_count": 19,
     "metadata": {},
     "output_type": "execute_result"
    }
   ],
   "source": [
    "df['Fare'].unique()"
   ]
  },
  {
   "cell_type": "code",
   "execution_count": 20,
   "id": "f12df4e3",
   "metadata": {},
   "outputs": [],
   "source": [
    "df['Fare'] = df['Fare'].astype('float')"
   ]
  },
  {
   "cell_type": "code",
   "execution_count": 21,
   "id": "f5e6ca92",
   "metadata": {},
   "outputs": [
    {
     "name": "stdout",
     "output_type": "stream",
     "text": [
      "<class 'pandas.core.frame.DataFrame'>\n",
      "RangeIndex: 892 entries, 0 to 891\n",
      "Data columns (total 1 columns):\n",
      " #   Column  Non-Null Count  Dtype  \n",
      "---  ------  --------------  -----  \n",
      " 0   Fare    892 non-null    float64\n",
      "dtypes: float64(1)\n",
      "memory usage: 7.1 KB\n"
     ]
    }
   ],
   "source": [
    "df[['Fare']].info()"
   ]
  },
  {
   "cell_type": "code",
   "execution_count": 22,
   "id": "8604e28a",
   "metadata": {},
   "outputs": [],
   "source": [
    "df.loc[(df.Fare == df.Fare), 'Fare'] = round(df.Fare, 2)"
   ]
  },
  {
   "cell_type": "code",
   "execution_count": 23,
   "id": "daa1302c",
   "metadata": {},
   "outputs": [],
   "source": [
    "df.loc[(df.Fare < 0), 'Fare'] = 0"
   ]
  },
  {
   "cell_type": "markdown",
   "id": "e4d3ca39",
   "metadata": {},
   "source": [
    "# Czyszczenie kolumny Sex"
   ]
  },
  {
   "cell_type": "code",
   "execution_count": 24,
   "id": "ca625190",
   "metadata": {},
   "outputs": [
    {
     "name": "stdout",
     "output_type": "stream",
     "text": [
      "<class 'pandas.core.frame.DataFrame'>\n",
      "RangeIndex: 892 entries, 0 to 891\n",
      "Data columns (total 1 columns):\n",
      " #   Column  Non-Null Count  Dtype \n",
      "---  ------  --------------  ----- \n",
      " 0   Sex     892 non-null    object\n",
      "dtypes: object(1)\n",
      "memory usage: 7.1+ KB\n"
     ]
    }
   ],
   "source": [
    "df[['Sex']].info()"
   ]
  },
  {
   "cell_type": "markdown",
   "id": "4c06717d",
   "metadata": {},
   "source": [
    "### Sprawdzenie ulikalnych wartości"
   ]
  },
  {
   "cell_type": "code",
   "execution_count": 25,
   "id": "7205e449",
   "metadata": {},
   "outputs": [
    {
     "data": {
      "text/plain": [
       "array(['male', 'female', 'malef', 'mal', 'fem', 'femmale'], dtype=object)"
      ]
     },
     "execution_count": 25,
     "metadata": {},
     "output_type": "execute_result"
    }
   ],
   "source": [
    "df['Sex'].unique()"
   ]
  },
  {
   "cell_type": "markdown",
   "id": "9e9bd029",
   "metadata": {},
   "source": [
    "### Z powyższego wyniku można wywnioskować, że tylko 'male' oraz 'female' są wartościami poprawnymi"
   ]
  },
  {
   "cell_type": "code",
   "execution_count": 26,
   "id": "e5ebe754",
   "metadata": {},
   "outputs": [],
   "source": [
    "df.loc[(df.Sex.str[0] == 'm'), 'Sex'] = 'male'\n",
    "df.loc[(df.Sex.str[0] == 'f'), 'Sex'] = 'female'"
   ]
  },
  {
   "cell_type": "markdown",
   "id": "cf23db0e",
   "metadata": {},
   "source": [
    "### Sprawdzenie wyniku"
   ]
  },
  {
   "cell_type": "code",
   "execution_count": 27,
   "id": "4d72a52a",
   "metadata": {},
   "outputs": [
    {
     "data": {
      "text/plain": [
       "array(['male', 'female'], dtype=object)"
      ]
     },
     "execution_count": 27,
     "metadata": {},
     "output_type": "execute_result"
    }
   ],
   "source": [
    "df['Sex'].unique()"
   ]
  },
  {
   "cell_type": "markdown",
   "id": "484aea7d",
   "metadata": {},
   "source": [
    "# Czyszczenie kolumny Embarked"
   ]
  },
  {
   "cell_type": "code",
   "execution_count": 28,
   "id": "04643b0e",
   "metadata": {},
   "outputs": [
    {
     "name": "stdout",
     "output_type": "stream",
     "text": [
      "<class 'pandas.core.frame.DataFrame'>\n",
      "RangeIndex: 892 entries, 0 to 891\n",
      "Data columns (total 1 columns):\n",
      " #   Column    Non-Null Count  Dtype \n",
      "---  ------    --------------  ----- \n",
      " 0   Embarked  890 non-null    object\n",
      "dtypes: object(1)\n",
      "memory usage: 7.1+ KB\n"
     ]
    }
   ],
   "source": [
    "df[['Embarked']].info()"
   ]
  },
  {
   "cell_type": "code",
   "execution_count": 29,
   "id": "194f4ffa",
   "metadata": {},
   "outputs": [
    {
     "data": {
      "text/plain": [
       "array(['S', 'C', 'Q', 'So', nan, 'Co', 'Qe'], dtype=object)"
      ]
     },
     "execution_count": 29,
     "metadata": {},
     "output_type": "execute_result"
    }
   ],
   "source": [
    "df['Embarked'].unique()"
   ]
  },
  {
   "cell_type": "markdown",
   "id": "c023a6d0",
   "metadata": {},
   "source": [
    "### Z powyższego wynka, że poprawne wartości to S, C i Q"
   ]
  },
  {
   "cell_type": "code",
   "execution_count": 30,
   "id": "716c6fd9",
   "metadata": {},
   "outputs": [
    {
     "data": {
      "text/plain": [
       "S     643\n",
       "C     167\n",
       "Q      76\n",
       "So      2\n",
       "Qe      1\n",
       "Co      1\n",
       "Name: Embarked, dtype: int64"
      ]
     },
     "execution_count": 30,
     "metadata": {},
     "output_type": "execute_result"
    }
   ],
   "source": [
    "df['Embarked'].value_counts()"
   ]
  },
  {
   "cell_type": "code",
   "execution_count": 31,
   "id": "86e2f9ce",
   "metadata": {},
   "outputs": [],
   "source": [
    "df['Embarked'] = df['Embarked'].str.replace(\"Co\", \"C\")\n",
    "df['Embarked'] = df['Embarked'].str.replace(\"Qe\", \"Q\")\n",
    "df['Embarked'] = df['Embarked'].str.replace(\"So\", \"S\")\n",
    "df['Embarked'] = df['Embarked'].fillna(\"S\")"
   ]
  },
  {
   "cell_type": "code",
   "execution_count": 32,
   "id": "c505aa05",
   "metadata": {},
   "outputs": [
    {
     "data": {
      "text/plain": [
       "array(['S', 'C', 'Q'], dtype=object)"
      ]
     },
     "execution_count": 32,
     "metadata": {},
     "output_type": "execute_result"
    }
   ],
   "source": [
    "df['Embarked'].unique()"
   ]
  },
  {
   "cell_type": "markdown",
   "id": "9b606cf6",
   "metadata": {},
   "source": [
    "### Błędne wartości zostają zastąpnione poprawnymi a brakujące wartości najczęściej występującą"
   ]
  },
  {
   "cell_type": "markdown",
   "id": "cf7be200",
   "metadata": {},
   "source": [
    "# Czyszczenie kolumny Parch\n",
    "    - kolumna została zoptymalizowana pod względem pamięci RAM"
   ]
  },
  {
   "cell_type": "code",
   "execution_count": 33,
   "id": "d4288423",
   "metadata": {},
   "outputs": [
    {
     "data": {
      "text/plain": [
       "array([0, 1, 2, 5, 3, 4], dtype=int64)"
      ]
     },
     "execution_count": 33,
     "metadata": {},
     "output_type": "execute_result"
    }
   ],
   "source": [
    "df['Parch'].unique()"
   ]
  },
  {
   "cell_type": "code",
   "execution_count": 34,
   "id": "0d14b83a",
   "metadata": {},
   "outputs": [
    {
     "name": "stdout",
     "output_type": "stream",
     "text": [
      "<class 'pandas.core.frame.DataFrame'>\n",
      "RangeIndex: 892 entries, 0 to 891\n",
      "Data columns (total 1 columns):\n",
      " #   Column  Non-Null Count  Dtype\n",
      "---  ------  --------------  -----\n",
      " 0   Parch   892 non-null    int64\n",
      "dtypes: int64(1)\n",
      "memory usage: 7.1 KB\n"
     ]
    }
   ],
   "source": [
    "df[['Parch']].info()"
   ]
  },
  {
   "cell_type": "code",
   "execution_count": 35,
   "id": "8a269e0c",
   "metadata": {},
   "outputs": [
    {
     "name": "stdout",
     "output_type": "stream",
     "text": [
      "<class 'pandas.core.frame.DataFrame'>\n",
      "RangeIndex: 892 entries, 0 to 891\n",
      "Data columns (total 1 columns):\n",
      " #   Column  Non-Null Count  Dtype\n",
      "---  ------  --------------  -----\n",
      " 0   Parch   892 non-null    int8 \n",
      "dtypes: int8(1)\n",
      "memory usage: 1020.0 bytes\n"
     ]
    }
   ],
   "source": [
    "df['Parch'] = df['Parch'].astype('int8')\n",
    "df[['Parch']].info()"
   ]
  },
  {
   "cell_type": "markdown",
   "id": "00ec4520",
   "metadata": {},
   "source": [
    "# Czyszczenie kolumny SibSp\n",
    "- kolumna została zoptymalizowana pod względem pamięci RAM"
   ]
  },
  {
   "cell_type": "code",
   "execution_count": 36,
   "id": "0c7be8f0",
   "metadata": {},
   "outputs": [
    {
     "data": {
      "text/plain": [
       "array([1, 0, 3, 4, 2, 5, 8], dtype=int64)"
      ]
     },
     "execution_count": 36,
     "metadata": {},
     "output_type": "execute_result"
    }
   ],
   "source": [
    "df['SibSp'].unique()"
   ]
  },
  {
   "cell_type": "code",
   "execution_count": 37,
   "id": "27291f74",
   "metadata": {},
   "outputs": [
    {
     "name": "stdout",
     "output_type": "stream",
     "text": [
      "<class 'pandas.core.frame.DataFrame'>\n",
      "RangeIndex: 892 entries, 0 to 891\n",
      "Data columns (total 1 columns):\n",
      " #   Column  Non-Null Count  Dtype\n",
      "---  ------  --------------  -----\n",
      " 0   SibSp   892 non-null    int64\n",
      "dtypes: int64(1)\n",
      "memory usage: 7.1 KB\n"
     ]
    }
   ],
   "source": [
    "df[['SibSp']].info()"
   ]
  },
  {
   "cell_type": "code",
   "execution_count": 38,
   "id": "a220a482",
   "metadata": {},
   "outputs": [
    {
     "name": "stdout",
     "output_type": "stream",
     "text": [
      "<class 'pandas.core.frame.DataFrame'>\n",
      "RangeIndex: 892 entries, 0 to 891\n",
      "Data columns (total 1 columns):\n",
      " #   Column  Non-Null Count  Dtype\n",
      "---  ------  --------------  -----\n",
      " 0   SibSp   892 non-null    int8 \n",
      "dtypes: int8(1)\n",
      "memory usage: 1020.0 bytes\n"
     ]
    }
   ],
   "source": [
    "df['SibSp'] = df['SibSp'].astype('int8')\n",
    "df[['SibSp']].info()"
   ]
  },
  {
   "cell_type": "markdown",
   "id": "68bd071b",
   "metadata": {},
   "source": [
    "# Czyszczenie kolumny Pclass\n",
    "- kolumna została zoptymalizowana pod względem pamięci RAM"
   ]
  },
  {
   "cell_type": "code",
   "execution_count": 39,
   "id": "fcaed575",
   "metadata": {},
   "outputs": [
    {
     "data": {
      "text/plain": [
       "225     3\n",
       "11      3\n",
       "601     1\n",
       "590     1\n",
       "591     1\n",
       "       ..\n",
       "303     1\n",
       "304     1\n",
       "305     1\n",
       "306     1\n",
       "1000    1\n",
       "Name: PassengerId, Length: 888, dtype: int64"
      ]
     },
     "execution_count": 39,
     "metadata": {},
     "output_type": "execute_result"
    }
   ],
   "source": [
    "df['PassengerId'].value_counts()"
   ]
  },
  {
   "cell_type": "code",
   "execution_count": 40,
   "id": "33d29fb3",
   "metadata": {},
   "outputs": [
    {
     "name": "stdout",
     "output_type": "stream",
     "text": [
      "<class 'pandas.core.frame.DataFrame'>\n",
      "RangeIndex: 892 entries, 0 to 891\n",
      "Data columns (total 1 columns):\n",
      " #   Column  Non-Null Count  Dtype\n",
      "---  ------  --------------  -----\n",
      " 0   Pclass  892 non-null    int64\n",
      "dtypes: int64(1)\n",
      "memory usage: 7.1 KB\n"
     ]
    }
   ],
   "source": [
    "df[['Pclass']].info()"
   ]
  },
  {
   "cell_type": "code",
   "execution_count": 41,
   "id": "7d247e13",
   "metadata": {},
   "outputs": [
    {
     "name": "stdout",
     "output_type": "stream",
     "text": [
      "<class 'pandas.core.frame.DataFrame'>\n",
      "RangeIndex: 892 entries, 0 to 891\n",
      "Data columns (total 1 columns):\n",
      " #   Column  Non-Null Count  Dtype\n",
      "---  ------  --------------  -----\n",
      " 0   Pclass  892 non-null    int8 \n",
      "dtypes: int8(1)\n",
      "memory usage: 1020.0 bytes\n"
     ]
    }
   ],
   "source": [
    "df['Pclass'] = df['Pclass'].astype('int8')\n",
    "df[['Pclass']].info()"
   ]
  },
  {
   "cell_type": "markdown",
   "id": "29f4202d",
   "metadata": {},
   "source": [
    "# Czyszczenie kolumny Survived\n",
    "- kolumna została zoptymalizowana pod względem pamięci RAM"
   ]
  },
  {
   "cell_type": "code",
   "execution_count": 42,
   "id": "881c9034",
   "metadata": {},
   "outputs": [
    {
     "data": {
      "text/plain": [
       "array([0, 1], dtype=int64)"
      ]
     },
     "execution_count": 42,
     "metadata": {},
     "output_type": "execute_result"
    }
   ],
   "source": [
    "df['Survived'].unique()"
   ]
  },
  {
   "cell_type": "code",
   "execution_count": 43,
   "id": "016b1262",
   "metadata": {},
   "outputs": [
    {
     "name": "stdout",
     "output_type": "stream",
     "text": [
      "<class 'pandas.core.frame.DataFrame'>\n",
      "RangeIndex: 892 entries, 0 to 891\n",
      "Data columns (total 1 columns):\n",
      " #   Column    Non-Null Count  Dtype\n",
      "---  ------    --------------  -----\n",
      " 0   Survived  892 non-null    int64\n",
      "dtypes: int64(1)\n",
      "memory usage: 7.1 KB\n"
     ]
    }
   ],
   "source": [
    "df[['Survived']].info()"
   ]
  },
  {
   "cell_type": "code",
   "execution_count": 44,
   "id": "8a975ab0",
   "metadata": {},
   "outputs": [
    {
     "name": "stdout",
     "output_type": "stream",
     "text": [
      "<class 'pandas.core.frame.DataFrame'>\n",
      "RangeIndex: 892 entries, 0 to 891\n",
      "Data columns (total 1 columns):\n",
      " #   Column    Non-Null Count  Dtype\n",
      "---  ------    --------------  -----\n",
      " 0   Survived  892 non-null    int8 \n",
      "dtypes: int8(1)\n",
      "memory usage: 1020.0 bytes\n"
     ]
    }
   ],
   "source": [
    "df['Survived'] = df['Survived'].astype('int8')\n",
    "df[['Survived']].info()"
   ]
  },
  {
   "cell_type": "markdown",
   "id": "2f45a87a",
   "metadata": {},
   "source": [
    "# Czyszczenie kolumny PassengerId\n",
    "- dane w tej kolumnie powinny być unikalne a nie są \n",
    "- następuje usunięcie duplikatów\n",
    "- kolumna zostaje zoptymalizowana pod względem pamięci RAM"
   ]
  },
  {
   "cell_type": "code",
   "execution_count": 45,
   "id": "efdcc09f",
   "metadata": {},
   "outputs": [
    {
     "data": {
      "text/plain": [
       "225     3\n",
       "11      3\n",
       "601     1\n",
       "590     1\n",
       "591     1\n",
       "       ..\n",
       "303     1\n",
       "304     1\n",
       "305     1\n",
       "306     1\n",
       "1000    1\n",
       "Name: PassengerId, Length: 888, dtype: int64"
      ]
     },
     "execution_count": 45,
     "metadata": {},
     "output_type": "execute_result"
    }
   ],
   "source": [
    "df['PassengerId'].value_counts()"
   ]
  },
  {
   "cell_type": "code",
   "execution_count": 46,
   "id": "341136f4",
   "metadata": {},
   "outputs": [
    {
     "name": "stdout",
     "output_type": "stream",
     "text": [
      "<class 'pandas.core.frame.DataFrame'>\n",
      "RangeIndex: 892 entries, 0 to 891\n",
      "Data columns (total 1 columns):\n",
      " #   Column       Non-Null Count  Dtype\n",
      "---  ------       --------------  -----\n",
      " 0   PassengerId  892 non-null    int64\n",
      "dtypes: int64(1)\n",
      "memory usage: 7.1 KB\n"
     ]
    }
   ],
   "source": [
    "df[['PassengerId']].info()"
   ]
  },
  {
   "cell_type": "code",
   "execution_count": 47,
   "id": "01a9ae09",
   "metadata": {},
   "outputs": [],
   "source": [
    "df = df.drop_duplicates('PassengerId',keep='first')"
   ]
  },
  {
   "cell_type": "code",
   "execution_count": 48,
   "id": "50d414b8",
   "metadata": {},
   "outputs": [
    {
     "data": {
      "text/plain": [
       "1       1\n",
       "600     1\n",
       "589     1\n",
       "590     1\n",
       "591     1\n",
       "       ..\n",
       "302     1\n",
       "303     1\n",
       "304     1\n",
       "305     1\n",
       "1000    1\n",
       "Name: PassengerId, Length: 888, dtype: int64"
      ]
     },
     "execution_count": 48,
     "metadata": {},
     "output_type": "execute_result"
    }
   ],
   "source": [
    "df['PassengerId'].value_counts()"
   ]
  },
  {
   "cell_type": "code",
   "execution_count": 49,
   "id": "9589782c",
   "metadata": {},
   "outputs": [
    {
     "name": "stdout",
     "output_type": "stream",
     "text": [
      "<class 'pandas.core.frame.DataFrame'>\n",
      "Int64Index: 888 entries, 0 to 891\n",
      "Data columns (total 1 columns):\n",
      " #   Column       Non-Null Count  Dtype\n",
      "---  ------       --------------  -----\n",
      " 0   PassengerId  888 non-null    int64\n",
      "dtypes: int64(1)\n",
      "memory usage: 13.9 KB\n"
     ]
    }
   ],
   "source": [
    "df[['PassengerId']].info()"
   ]
  },
  {
   "cell_type": "code",
   "execution_count": 50,
   "id": "abf739f6",
   "metadata": {},
   "outputs": [],
   "source": [
    "df['PassengerId'] = df['PassengerId'].astype('int16')"
   ]
  },
  {
   "cell_type": "code",
   "execution_count": 51,
   "id": "1b26b51f",
   "metadata": {},
   "outputs": [
    {
     "name": "stdout",
     "output_type": "stream",
     "text": [
      "<class 'pandas.core.frame.DataFrame'>\n",
      "Int64Index: 888 entries, 0 to 891\n",
      "Data columns (total 1 columns):\n",
      " #   Column       Non-Null Count  Dtype\n",
      "---  ------       --------------  -----\n",
      " 0   PassengerId  888 non-null    int16\n",
      "dtypes: int16(1)\n",
      "memory usage: 8.7 KB\n"
     ]
    }
   ],
   "source": [
    "df[['PassengerId']].info()"
   ]
  },
  {
   "cell_type": "markdown",
   "id": "af9bc2a8",
   "metadata": {},
   "source": [
    "# W kolumnie Cabin brakuje ok. 77% wartości wiec zostaje usunięta"
   ]
  },
  {
   "cell_type": "code",
   "execution_count": 52,
   "id": "bc1afd84",
   "metadata": {},
   "outputs": [
    {
     "name": "stdout",
     "output_type": "stream",
     "text": [
      "<class 'pandas.core.frame.DataFrame'>\n",
      "Int64Index: 888 entries, 0 to 891\n",
      "Data columns (total 1 columns):\n",
      " #   Column  Non-Null Count  Dtype \n",
      "---  ------  --------------  ----- \n",
      " 0   Cabin   203 non-null    object\n",
      "dtypes: object(1)\n",
      "memory usage: 13.9+ KB\n"
     ]
    }
   ],
   "source": [
    "df[['Cabin']].info()\n",
    "\n",
    "df = df.drop('Cabin',axis=1)"
   ]
  },
  {
   "cell_type": "code",
   "execution_count": 53,
   "id": "a0230d8c",
   "metadata": {},
   "outputs": [
    {
     "name": "stdout",
     "output_type": "stream",
     "text": [
      "<class 'pandas.core.frame.DataFrame'>\n",
      "Int64Index: 888 entries, 0 to 891\n",
      "Data columns (total 12 columns):\n",
      " #   Column       Non-Null Count  Dtype  \n",
      "---  ------       --------------  -----  \n",
      " 0   PassengerId  888 non-null    int16  \n",
      " 1   Survived     888 non-null    int8   \n",
      " 2   Pclass       888 non-null    int8   \n",
      " 3   Name         888 non-null    object \n",
      " 4   Sex          888 non-null    object \n",
      " 5   Age          888 non-null    float16\n",
      " 6   SibSp        888 non-null    int8   \n",
      " 7   Parch        888 non-null    int8   \n",
      " 8   Ticket       888 non-null    object \n",
      " 9   Fare         888 non-null    float64\n",
      " 10  Embarked     888 non-null    object \n",
      " 11  ship         888 non-null    object \n",
      "dtypes: float16(1), float64(1), int16(1), int8(4), object(5)\n",
      "memory usage: 55.5+ KB\n"
     ]
    }
   ],
   "source": [
    "df.info()"
   ]
  },
  {
   "cell_type": "markdown",
   "id": "ea4db05e",
   "metadata": {},
   "source": [
    "# Zmiana nazwy kolumny ship na Ship"
   ]
  },
  {
   "cell_type": "code",
   "execution_count": 54,
   "id": "c0a149a6",
   "metadata": {},
   "outputs": [],
   "source": [
    "df = df.rename(columns=lambda x: x.replace('ship', 'Ship'))"
   ]
  },
  {
   "cell_type": "markdown",
   "id": "3e21df31",
   "metadata": {},
   "source": [
    "# Kolumna Name, Ship oraz Ticket nie wymaga czyszczenia"
   ]
  },
  {
   "cell_type": "markdown",
   "id": "7a46438c",
   "metadata": {},
   "source": [
    "# Zapis do pliku"
   ]
  },
  {
   "cell_type": "code",
   "execution_count": 55,
   "id": "cbcb92ff",
   "metadata": {},
   "outputs": [],
   "source": [
    "df.to_csv('C:\\\\Users\\\\Marcin\\\\Desktop\\\\TitanicCleaned.tsv', index = False, sep ='\\t')"
   ]
  }
 ],
 "metadata": {
  "kernelspec": {
   "display_name": "Python 3",
   "language": "python",
   "name": "python3"
  },
  "language_info": {
   "codemirror_mode": {
    "name": "ipython",
    "version": 3
   },
   "file_extension": ".py",
   "mimetype": "text/x-python",
   "name": "python",
   "nbconvert_exporter": "python",
   "pygments_lexer": "ipython3",
   "version": "3.8.8"
  }
 },
 "nbformat": 4,
 "nbformat_minor": 5
}
